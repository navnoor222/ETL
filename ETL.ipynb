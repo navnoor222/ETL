{
 "cells": [
  {
   "cell_type": "markdown",
   "id": "6067bd18-289f-4d81-9aa6-8242d8693987",
   "metadata": {},
   "source": [
    "# Extraction"
   ]
  },
  {
   "cell_type": "code",
   "execution_count": 41,
   "id": "52ceb119-b02f-4597-9382-a8588ce4cd78",
   "metadata": {
    "tags": []
   },
   "outputs": [],
   "source": [
    "import pandas as pd\n",
    "import requests\n",
    "import mysql.connector\n",
    "import csv"
   ]
  },
  {
   "cell_type": "markdown",
   "id": "3376350d-4a0a-4ed9-bc06-26a7b5dfd7fe",
   "metadata": {},
   "source": [
    "### Extracting from mysql locally"
   ]
  },
  {
   "cell_type": "code",
   "execution_count": 42,
   "id": "f70baf2e-5980-4971-a425-4a122913a8e6",
   "metadata": {
    "tags": []
   },
   "outputs": [],
   "source": [
    "def extractMysql():\n",
    "    mydb = mysql.connector.connect(\n",
    "        host=\"localhost\",\n",
    "        user=\"root\",\n",
    "        password=\"root\",\n",
    "        database=\"CustomerData\"\n",
    "    )\n",
    "    cursor = mydb.cursor()\n",
    "    cursor.execute(\"SELECT * FROM Customers\")\n",
    "    customers_data = cursor.fetchall()\n",
    "    cursor.close()\n",
    "    mydb.close()\n",
    "    return customers_data\n"
   ]
  },
  {
   "cell_type": "markdown",
   "id": "72aa2e78-c2c2-4a97-a348-5bc1595205da",
   "metadata": {},
   "source": [
    "### Extracting from CSV File"
   ]
  },
  {
   "cell_type": "code",
   "execution_count": 43,
   "id": "f632caed-7926-4e4e-99fc-e80098923f77",
   "metadata": {
    "tags": []
   },
   "outputs": [],
   "source": [
    "def extractCSV():\n",
    "    data = []\n",
    "    with open('Order_Info.csv', newline='') as csvfile:\n",
    "        reader = csv.DictReader(csvfile)\n",
    "        for row in reader:\n",
    "            data.append(row)\n",
    "    return data"
   ]
  },
  {
   "cell_type": "markdown",
   "id": "95926246-3aeb-4817-8a7c-2fe812226af1",
   "metadata": {},
   "source": [
    "### Extracting from Locally Hosted API"
   ]
  },
  {
   "cell_type": "code",
   "execution_count": 44,
   "id": "5689cf31-bee5-40e1-a321-06ea0887dd6e",
   "metadata": {
    "tags": []
   },
   "outputs": [],
   "source": [
    "def extractAPI():\n",
    "    url = 'http://127.0.0.1:5000/data'\n",
    "    response = requests.get(url)\n",
    "    if response.status_code == 200:\n",
    "        return response.json()\n",
    "    else:\n",
    "        print(\"Error: Unable to fetch data from API\")\n",
    "        return []\n"
   ]
  },
  {
   "cell_type": "markdown",
   "id": "8d90b75c-28e1-4316-82a4-d4b16a2bdb9f",
   "metadata": {
    "tags": []
   },
   "source": [
    "# Transformation "
   ]
  },
  {
   "cell_type": "code",
   "execution_count": 45,
   "id": "c33c91c9-aa4b-4435-9f24-9c3ed0c70d9f",
   "metadata": {
    "tags": []
   },
   "outputs": [],
   "source": [
    "def tranformCustomer(customers_data):\n",
    "    transformed_data = []\n",
    "    for row in customers_data:\n",
    "        transformed_row = {\n",
    "            \"customer_id\": row[0],\n",
    "            \"customer_name\": row[1],\n",
    "            \"segment\": row[2],\n",
    "            \"country\": row[3],\n",
    "            \"city\": row[4],\n",
    "            \"state\": row[5],\n",
    "            \"postal_code\": row[6],\n",
    "            \"region\": row[7]\n",
    "        }\n",
    "        transformed_data.append(transformed_row)\n",
    "    return transformed_data"
   ]
  },
  {
   "cell_type": "code",
   "execution_count": 46,
   "id": "d886e1c3-ef41-4fd4-abde-baa9cc27bc36",
   "metadata": {
    "tags": []
   },
   "outputs": [],
   "source": [
    "def tranformOrder(csv_data):\n",
    "    transformed_data = []\n",
    "    for row in csv_data:\n",
    "        transformed_row = {\n",
    "            \"order_id\": row[\"Order ID\"],\n",
    "            \"order_date\": row[\"Order Date\"],\n",
    "            \"ship_date\": row[\"Ship Date\"],\n",
    "            \"ship_mode\": row[\"Ship Mode\"],\n",
    "            \"customer_id\": row[\"Customer ID\"],\n",
    "            \"sales\": row[\"Sales\"],\n",
    "            \"quantity\": row[\"Quantity\"],\n",
    "            \"discount\": row[\"Discount\"],\n",
    "            \"profit\": row[\"Profit\"]\n",
    "        }\n",
    "        transformed_data.append(transformed_row)\n",
    "    return transformed_data"
   ]
  },
  {
   "cell_type": "code",
   "execution_count": 47,
   "id": "0c95ba66-bb82-4439-b26e-a0838f4529ae",
   "metadata": {
    "tags": []
   },
   "outputs": [],
   "source": [
    "def transformProduct(api_data):\n",
    "    transformed_data = []\n",
    "    for row in api_data:\n",
    "        transformed_row = {\n",
    "            \"order_id\": row[\"Order ID\"],\n",
    "            \"product_id\": row[\"Product ID\"],\n",
    "            \"product_name\": row[\"Product Name\"],\n",
    "            \"category\": row[\"Category\"],\n",
    "            \"sub_category\": row[\"Sub-Category\"],\n",
    "            \"price\": row[\"Price\"]\n",
    "        }\n",
    "        transformed_data.append(transformed_row)\n",
    "    return transformed_data"
   ]
  },
  {
   "cell_type": "markdown",
   "id": "27e73746-92b0-4527-96aa-c41bf91dd250",
   "metadata": {},
   "source": [
    "##### Performing Extraction"
   ]
  },
  {
   "cell_type": "code",
   "execution_count": 48,
   "id": "cf50c585-3d19-4fcb-a1d6-9f0209b1246f",
   "metadata": {
    "tags": []
   },
   "outputs": [],
   "source": [
    "customerData=extractMysql()\n",
    "orderData=extractCSV()\n",
    "productData=extractAPI()"
   ]
  },
  {
   "cell_type": "markdown",
   "id": "8390a795-c292-4aa9-8e10-30161ef6a25b",
   "metadata": {
    "tags": []
   },
   "source": [
    "##### Performing Transfomration"
   ]
  },
  {
   "cell_type": "code",
   "execution_count": 49,
   "id": "de5a3639-c26d-4563-bad5-01a918c88ef8",
   "metadata": {
    "tags": []
   },
   "outputs": [],
   "source": [
    "customerData_Transform=tranformCustomer(customerData)\n",
    "orderData_Transform=tranformOrder(orderData)\n",
    "productData_Transform=transformProduct(productData)"
   ]
  },
  {
   "cell_type": "markdown",
   "id": "ae9363ac-a692-4f96-8934-bf9945614d23",
   "metadata": {
    "tags": []
   },
   "source": [
    "# Loading"
   ]
  },
  {
   "cell_type": "code",
   "execution_count": 69,
   "id": "bbb7e0f9-e8c5-4959-9c27-7f7d43c2bb42",
   "metadata": {
    "tags": []
   },
   "outputs": [
    {
     "name": "stdout",
     "output_type": "stream",
     "text": [
      "Customer Done\n",
      "Products Done\n",
      "Order Done\n",
      "Category Done\n",
      "Order Item Done\n",
      "MySQL connection is closed.\n"
     ]
    }
   ],
   "source": [
    "try:\n",
    "    connection = mysql.connector.connect(\n",
    "        host=\"localhost\",\n",
    "        user=\"root\",\n",
    "        password=\"root\",\n",
    "        database=\"STORESALE\"\n",
    "    )\n",
    "    cursor = connection.cursor()\n",
    "    \n",
    "    for customer in customerData_Transform:\n",
    "        cursor.execute(\"INSERT IGNORE INTO Customers (CustomerID, CustomerName, Segment, Country, City, State, PostalCode, Region) VALUES (%s, %s, %s, %s, %s, %s, %s, %s)\", \n",
    "                   (customer['customer_id'], customer['customer_name'], customer['segment'], customer['country'], customer['city'], customer['state'], customer['postal_code'], customer['region']))\n",
    "\n",
    "    print(\"Customer Done\")\n",
    "    for product in productData_Transform:\n",
    "        cursor.execute(\"INSERT Ignore INTO Products (ProductID, ProductName, CategoryName, Price) VALUES (%s, %s, %s, %s)\", \n",
    "                       (product['product_id'], product['product_name'], product['category'], product['price']))\n",
    "    print(\"Products Done\")   \n",
    "    for order in orderData_Transform:\n",
    "        cursor.execute(\"INSERT IGNORE INTO Orders (OrderID, CustomerID, OrderDate, ShipDate, ShipMode, Sales, Quantity, Discount, Profit) VALUES (%s, %s, %s, %s, %s, %s, %s, %s, %s)\", \n",
    "                       (order['order_id'], order['customer_id'], order['order_date'], order['ship_date'], order['ship_mode'], order['sales'], order['quantity'], order['discount'], order['profit']))\n",
    "    print(\"Order Done\")\n",
    "    \n",
    "    for category in productData_Transform:\n",
    "        cursor.execute(\"INSERT IGNORE INTO Categories (CategoryName,SubCategory) VALUES (%s, %s)\", \n",
    "                       (category['category'], category['sub_category']))\n",
    "    print(\"Category Done\")\n",
    "    \n",
    "    orderItemData_Transform = []\n",
    "    for order in orderData_Transform:\n",
    "        for product in productData_Transform:\n",
    "            if order['order_id'] == product['order_id']:\n",
    "                orderItemData_Transform.append({'order_id': order['order_id'], 'product_id': product['product_id'], 'quantity': order['quantity']})\n",
    "    for order_item in orderItemData_Transform:\n",
    "        cursor.execute(\"INSERT IGNORE INTO Order_Items (OrderID, ProductID, Quantity) VALUES (%s, %s, %s)\", \n",
    "                       (order_item['order_id'], order_item['product_id'], order_item['quantity']))\n",
    "    print(\"Order Item Done\")\n",
    "    \n",
    "    connection.commit()\n",
    "\n",
    "except mysql.connector.Error as error:\n",
    "    print(\"Failed to insert record into MySQL table:\", error)\n",
    "\n",
    "finally:\n",
    "    if connection.is_connected():\n",
    "        cursor.close()\n",
    "        connection.close()\n",
    "        print(\"MySQL connection is closed.\")\n"
   ]
  },
  {
   "cell_type": "code",
   "execution_count": null,
   "id": "8dee5444-997a-417e-9f78-444eb272db35",
   "metadata": {
    "tags": []
   },
   "outputs": [],
   "source": []
  },
  {
   "cell_type": "code",
   "execution_count": null,
   "id": "a688ee28-6449-49ac-83ee-00c0e921aa72",
   "metadata": {},
   "outputs": [],
   "source": []
  }
 ],
 "metadata": {
  "kernelspec": {
   "display_name": "Python 3 (ipykernel)",
   "language": "python",
   "name": "python3"
  },
  "language_info": {
   "codemirror_mode": {
    "name": "ipython",
    "version": 3
   },
   "file_extension": ".py",
   "mimetype": "text/x-python",
   "name": "python",
   "nbconvert_exporter": "python",
   "pygments_lexer": "ipython3",
   "version": "3.11.4"
  }
 },
 "nbformat": 4,
 "nbformat_minor": 5
}
